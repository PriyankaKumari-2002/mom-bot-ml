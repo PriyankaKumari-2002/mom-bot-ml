{
  "nbformat": 4,
  "nbformat_minor": 0,
  "metadata": {
    "colab": {
      "name": "summarization_texts_after_giving _input_of_meetings.ipynb",
      "provenance": [],
      "collapsed_sections": [],
      "machine_shape": "hm"
    },
    "kernelspec": {
      "display_name": "Python 3",
      "name": "python3"
    },
    "accelerator": "GPU"
  },
  "cells": [
    {
      "cell_type": "code",
      "metadata": {
        "id": "zlXIVJPJfMz1"
      },
      "source": [
        "%%capture\n",
        "\n",
        "!pip install -U torch\n",
        "!pip install -U transformers\n",
        "!pip install -U sentencepiece\n",
        "!pip install -U tqdm\n",
        "\n",
        "from transformers import PegasusForConditionalGeneration, PegasusTokenizer\n",
        "import torch, sentencepiece\n",
        "from tqdm.auto import tqdm"
      ],
      "execution_count": null,
      "outputs": []
    },
    {
      "cell_type": "code",
      "metadata": {
        "colab": {
          "base_uri": "https://localhost:8080/"
        },
        "id": "eCxwHo_JfYbI",
        "outputId": "bc3fb128-d549-483d-beb5-0c2f3c373dff"
      },
      "source": [
        "# checking the  GPU allocation\n",
        "\n",
        "!nvidia-smi"
      ],
      "execution_count": null,
      "outputs": [
        {
          "output_type": "stream",
          "text": [
            "Tue Jul 13 11:38:00 2021       \n",
            "+-----------------------------------------------------------------------------+\n",
            "| NVIDIA-SMI 470.42.01    Driver Version: 460.32.03    CUDA Version: 11.2     |\n",
            "|-------------------------------+----------------------+----------------------+\n",
            "| GPU  Name        Persistence-M| Bus-Id        Disp.A | Volatile Uncorr. ECC |\n",
            "| Fan  Temp  Perf  Pwr:Usage/Cap|         Memory-Usage | GPU-Util  Compute M. |\n",
            "|                               |                      |               MIG M. |\n",
            "|===============================+======================+======================|\n",
            "|   0  Tesla P100-PCIE...  Off  | 00000000:00:04.0 Off |                    0 |\n",
            "| N/A   39C    P0    27W / 250W |      0MiB / 16280MiB |      0%      Default |\n",
            "|                               |                      |                  N/A |\n",
            "+-------------------------------+----------------------+----------------------+\n",
            "                                                                               \n",
            "+-----------------------------------------------------------------------------+\n",
            "| Processes:                                                                  |\n",
            "|  GPU   GI   CI        PID   Type   Process name                  GPU Memory |\n",
            "|        ID   ID                                                   Usage      |\n",
            "|=============================================================================|\n",
            "|  No running processes found                                                 |\n",
            "+-----------------------------------------------------------------------------+\n"
          ],
          "name": "stdout"
        }
      ]
    },
    {
      "cell_type": "code",
      "metadata": {
        "colab": {
          "base_uri": "https://localhost:8080/"
        },
        "id": "x6AytZQAgRXk",
        "outputId": "d62a3363-2b0b-41dc-f705-d4faccc54eb2"
      },
      "source": [
        "import pprint as pp\n",
        "\n",
        "print(\"Summarized text is :\\n\")\n"
      ],
      "execution_count": null,
      "outputs": [
        {
          "output_type": "stream",
          "name": "stdout",
          "text": [
            "Summarized text is :\n",
            "\n"
          ]
        }
      ]
    },
    {
      "cell_type": "code",
      "source": [
        "from transformers import PegasusForConditionalGeneration, PegasusTokenizer\n",
        "import torch\n",
        "\n",
        "src_text = [\n",
        "    \"\"\" \"\"\"\n",
        "]\n",
        "\n",
        "model_name = \"\"  #give input model of text here\n",
        "device = \"cuda\" if torch.cuda.is_available() else \"cpu\"\n",
        "tokenizer = PegasusTokenizer.from_pretrained(model_name)\n",
        "model = PegasusForConditionalGeneration.from_pretrained(model_name).to(device)\n",
        "batch = tokenizer(src_text, truncation=True, padding=\"longest\", return_tensors=\"pt\").to(\n",
        "    device\n",
        ")\n",
        "translated = model.generate(**batch)\n",
        "tgt_text = tokenizer.batch_decode(translated, skip_special_tokens=True)\n",
        "\n",
        "del batch, translated, model, tokenizer  # changing below"
      ],
      "metadata": {
        "id": "gKQlygj5QLVa"
      },
      "execution_count": null,
      "outputs": []
    },
    {
      "cell_type": "markdown",
      "metadata": {
        "id": "IAvIgCh-gq0f"
      },
      "source": [
        ""
      ]
    },
    {
      "cell_type": "code",
      "source": [
        "import os, shutil\n",
        "from google.colab import files\n",
        "\n",
        "# upload zip file. \n",
        "in_archive = files.upload()\n",
        "the_wd = os.getcwd()\n",
        "src_dir = os.path.join(the_wd, \"input_txt_files\")  # put the files here\n",
        "os.makedirs(src_dir, exist_ok=True)\n",
        "shutil.unpack_archive(list(in_archive.keys())[0], src_dir)"
      ],
      "metadata": {
        "id": "g7Wxta_SQ3KU"
      },
      "execution_count": null,
      "outputs": []
    },
    {
      "cell_type": "code",
      "source": [
        "from natsort import natsorted\n",
        "from os import listdir\n",
        "from os.path import join, basename, isfile\n",
        "\n",
        "req_ext = \".txt\"\n",
        "appr_files = [\n",
        "    join(src_dir, f)\n",
        "    for f in listdir(src_dir)\n",
        "    if isfile(join(src_dir, f)) and f.endswith(req_ext)\n",
        "]\n",
        "print(\"preview of {} loaded text files \\n\".format(len(appr_files)))\n",
        "n_preview = 3\n",
        "pp.pprint(appr_files[:n_preview], compact=True, indent=5)"
      ],
      "metadata": {
        "id": "t715n9IFQ-ww"
      },
      "execution_count": null,
      "outputs": []
    },
    {
      "cell_type": "code",
      "source": [
        "out_dir = os.path.join(the_wd, \"\")  \n",
        "os.makedirs(out_dir, exist_ok=True)\n",
        "\n",
        "model_name = \"\"\n",
        "device = \"cuda\" if torch.cuda.is_available() else \"cpu\"\n",
        "tokenizer = PegasusTokenizer.from_pretrained(model_name)\n",
        "model = PegasusForConditionalGeneration.from_pretrained(model_name).to(device)"
      ],
      "metadata": {
        "id": "QKdaWMtcQPTX"
      },
      "execution_count": null,
      "outputs": []
    },
    {
      "cell_type": "code",
      "source": [
        "summarizations = []\n",
        "summarization_percentages = []\n",
        "\n",
        "for tfile in tqdm(appr_files, total=len(appr_files), desc=\"summarizing input files\"):\n",
        "\n",
        "    torch.cuda.empty_cache()  # so GPU doesn't crash\n",
        "    with open(tfile, mode=\"r\", encoding=\"utf-8\", errors=\"ignore\") as src_f:\n",
        "        this_text = src_f.read()\n",
        "\n",
        "    batch = tokenizer(\n",
        "        this_text, truncation=True, padding=\"longest\", return_tensors=\"pt\"\n",
        "    ).to(device)\n",
        "    translated = model.generate(**batch, no_repeat_ngram_size=2)\n",
        "    tgt_text = tokenizer.batch_decode(translated, skip_special_tokens=True)\n",
        "    summarizations.append(tgt_text)\n",
        "\n",
        "    this_outname = \"SUM_\" + basename(tfile)\n",
        "    with open(\n",
        "        join(out_dir, this_outname), mode=\"w\", encoding=\"utf-8\", errors=\"ignore\"\n",
        "    ) as out_f:\n",
        "        out_f.writelines(tgt_text)\n",
        "    # metric comp.\n",
        "    summarization_percentages.append(round(100 * len(tgt_text) / len(this_text), 4))\n",
        "    del batch, translated, tgt_text  # so GPU doesn't crash\n",
        "\n",
        "print(\n",
        "    \"Files were summarized down to the following percentages:\\n\",\n",
        "    summarization_percentages,\n",
        ")  # by ratio of characters in text"
      ],
      "metadata": {
        "id": "QN4s-MCaQa0h"
      },
      "execution_count": null,
      "outputs": []
    },
    {
      "cell_type": "code",
      "source": [
        "# display some results\n",
        "import random\n",
        "\n",
        "n_preview = 5\n",
        "print(\"printout of {} of the summary files \\n\".format(n_preview))\n",
        "pp.pprint(random.sample(summarizations, k=n_preview), indent=5)"
      ],
      "metadata": {
        "id": "_EavjRw6Qh0Z"
      },
      "execution_count": null,
      "outputs": []
    },
    {
      "cell_type": "code",
      "metadata": {
        "id": "G8RDHYb0ouUG"
      },
      "source": [
        "download_output_files = True  # @param {type:\"boolean\"}"
      ],
      "execution_count": null,
      "outputs": []
    },
    {
      "cell_type": "code",
      "source": [
        "# create zip archive and download\n",
        "from datetime import datetime\n",
        "\n",
        "zip_dir = join(the_wd, \"zipped_outputs\")\n",
        "os.makedirs(zip_dir, exist_ok=True)\n",
        "summary_header = \"summary_file_archive_\" + datetime.now().strftime(\"%d%m%Y\")\n",
        "shutil.make_archive(join(zip_dir, summary_header), \"zip\", out_dir)\n",
        "\n",
        "if download_output_files:\n",
        "    files.download(join(zip_dir, summary_header + \".zip\"))\n",
        "    print(\"downloaded files - \", datetime.now())\n",
        "else:\n",
        "    print(\"download_output_files is set to: \", download_output_files)"
      ],
      "metadata": {
        "id": "psv1Rrh1Ql0v"
      },
      "execution_count": null,
      "outputs": []
    }
  ]
}